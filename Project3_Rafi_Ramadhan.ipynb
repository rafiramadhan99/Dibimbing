{
  "nbformat": 4,
  "nbformat_minor": 0,
  "metadata": {
    "colab": {
      "name": "Project3_Rafi Ramadhan.ipynb",
      "provenance": [],
      "collapsed_sections": [],
      "authorship_tag": "ABX9TyPgp9+AE+Jwzpiu8gPwBaAN",
      "include_colab_link": true
    },
    "kernelspec": {
      "name": "python3",
      "display_name": "Python 3"
    },
    "language_info": {
      "name": "python"
    }
  },
  "cells": [
    {
      "cell_type": "markdown",
      "metadata": {
        "id": "view-in-github",
        "colab_type": "text"
      },
      "source": [
        "<a href=\"https://colab.research.google.com/github/rafiramadhan99/Dibimbing/blob/main/Project3_Rafi_Ramadhan.ipynb\" target=\"_parent\"><img src=\"https://colab.research.google.com/assets/colab-badge.svg\" alt=\"Open In Colab\"/></a>"
      ]
    },
    {
      "cell_type": "markdown",
      "source": [
        "**Basic (80 poin) (tidak perlu submit github)**\n",
        "1. Tim data scientist diminta pertolongan oleh CEO ingin meminta beberapa data terkait user. Sehingga tim data scientist diminta membuat data frame dari profil user tersebut. Silahkan buat data frame yang terdiri dari kolom berikut:\n",
        "\n",
        "Nama\n",
        "\n",
        "Tempat lahir\n",
        "\n",
        "Tanggal lahir\n",
        "\n",
        "Tanggal terakhir berbelanja\n",
        "\n",
        "Rata-rata amount belanja per bulan (Rp)\n",
        "\n",
        "Total transaksi per bulan\n",
        "\n",
        "Buatlah data minimal 5 users.\n",
        "\n",
        "2. Dari data frame tersebut pilihlah user yang paling loyal berbelanja. Dimana user loyal adalah user yang memiliki rata-rata amount belanja per bulan di atas 100 ribu rupiah dan total transaksi per bulan di atas 5."
      ],
      "metadata": {
        "id": "xH6W8PL22bO9"
      }
    },
    {
      "cell_type": "code",
      "execution_count": null,
      "metadata": {
        "colab": {
          "base_uri": "https://localhost:8080/",
          "height": 112
        },
        "id": "qvLSlq87gUnu",
        "outputId": "14c11b06-3f30-4e66-c237-e6454474364d"
      },
      "outputs": [
        {
          "output_type": "execute_result",
          "data": {
            "text/plain": [
              "    Name Birthplace   Birthdate  Last Order  \\\n",
              "2   Rafi    Jakarta  22-12-1999  22-12-2021   \n",
              "4  Zahra  Singapura  09-01-1995  09-01-2021   \n",
              "\n",
              "   Average Amount of Purchase per Month  Total Transaction per Month  \n",
              "2                                400000                            7  \n",
              "4                                400000                            8  "
            ],
            "text/html": [
              "\n",
              "  <div id=\"df-5d162424-c960-40af-a6c8-59912d51a7ae\">\n",
              "    <div class=\"colab-df-container\">\n",
              "      <div>\n",
              "<style scoped>\n",
              "    .dataframe tbody tr th:only-of-type {\n",
              "        vertical-align: middle;\n",
              "    }\n",
              "\n",
              "    .dataframe tbody tr th {\n",
              "        vertical-align: top;\n",
              "    }\n",
              "\n",
              "    .dataframe thead th {\n",
              "        text-align: right;\n",
              "    }\n",
              "</style>\n",
              "<table border=\"1\" class=\"dataframe\">\n",
              "  <thead>\n",
              "    <tr style=\"text-align: right;\">\n",
              "      <th></th>\n",
              "      <th>Name</th>\n",
              "      <th>Birthplace</th>\n",
              "      <th>Birthdate</th>\n",
              "      <th>Last Order</th>\n",
              "      <th>Average Amount of Purchase per Month</th>\n",
              "      <th>Total Transaction per Month</th>\n",
              "    </tr>\n",
              "  </thead>\n",
              "  <tbody>\n",
              "    <tr>\n",
              "      <th>2</th>\n",
              "      <td>Rafi</td>\n",
              "      <td>Jakarta</td>\n",
              "      <td>22-12-1999</td>\n",
              "      <td>22-12-2021</td>\n",
              "      <td>400000</td>\n",
              "      <td>7</td>\n",
              "    </tr>\n",
              "    <tr>\n",
              "      <th>4</th>\n",
              "      <td>Zahra</td>\n",
              "      <td>Singapura</td>\n",
              "      <td>09-01-1995</td>\n",
              "      <td>09-01-2021</td>\n",
              "      <td>400000</td>\n",
              "      <td>8</td>\n",
              "    </tr>\n",
              "  </tbody>\n",
              "</table>\n",
              "</div>\n",
              "      <button class=\"colab-df-convert\" onclick=\"convertToInteractive('df-5d162424-c960-40af-a6c8-59912d51a7ae')\"\n",
              "              title=\"Convert this dataframe to an interactive table.\"\n",
              "              style=\"display:none;\">\n",
              "        \n",
              "  <svg xmlns=\"http://www.w3.org/2000/svg\" height=\"24px\"viewBox=\"0 0 24 24\"\n",
              "       width=\"24px\">\n",
              "    <path d=\"M0 0h24v24H0V0z\" fill=\"none\"/>\n",
              "    <path d=\"M18.56 5.44l.94 2.06.94-2.06 2.06-.94-2.06-.94-.94-2.06-.94 2.06-2.06.94zm-11 1L8.5 8.5l.94-2.06 2.06-.94-2.06-.94L8.5 2.5l-.94 2.06-2.06.94zm10 10l.94 2.06.94-2.06 2.06-.94-2.06-.94-.94-2.06-.94 2.06-2.06.94z\"/><path d=\"M17.41 7.96l-1.37-1.37c-.4-.4-.92-.59-1.43-.59-.52 0-1.04.2-1.43.59L10.3 9.45l-7.72 7.72c-.78.78-.78 2.05 0 2.83L4 21.41c.39.39.9.59 1.41.59.51 0 1.02-.2 1.41-.59l7.78-7.78 2.81-2.81c.8-.78.8-2.07 0-2.86zM5.41 20L4 18.59l7.72-7.72 1.47 1.35L5.41 20z\"/>\n",
              "  </svg>\n",
              "      </button>\n",
              "      \n",
              "  <style>\n",
              "    .colab-df-container {\n",
              "      display:flex;\n",
              "      flex-wrap:wrap;\n",
              "      gap: 12px;\n",
              "    }\n",
              "\n",
              "    .colab-df-convert {\n",
              "      background-color: #E8F0FE;\n",
              "      border: none;\n",
              "      border-radius: 50%;\n",
              "      cursor: pointer;\n",
              "      display: none;\n",
              "      fill: #1967D2;\n",
              "      height: 32px;\n",
              "      padding: 0 0 0 0;\n",
              "      width: 32px;\n",
              "    }\n",
              "\n",
              "    .colab-df-convert:hover {\n",
              "      background-color: #E2EBFA;\n",
              "      box-shadow: 0px 1px 2px rgba(60, 64, 67, 0.3), 0px 1px 3px 1px rgba(60, 64, 67, 0.15);\n",
              "      fill: #174EA6;\n",
              "    }\n",
              "\n",
              "    [theme=dark] .colab-df-convert {\n",
              "      background-color: #3B4455;\n",
              "      fill: #D2E3FC;\n",
              "    }\n",
              "\n",
              "    [theme=dark] .colab-df-convert:hover {\n",
              "      background-color: #434B5C;\n",
              "      box-shadow: 0px 1px 3px 1px rgba(0, 0, 0, 0.15);\n",
              "      filter: drop-shadow(0px 1px 2px rgba(0, 0, 0, 0.3));\n",
              "      fill: #FFFFFF;\n",
              "    }\n",
              "  </style>\n",
              "\n",
              "      <script>\n",
              "        const buttonEl =\n",
              "          document.querySelector('#df-5d162424-c960-40af-a6c8-59912d51a7ae button.colab-df-convert');\n",
              "        buttonEl.style.display =\n",
              "          google.colab.kernel.accessAllowed ? 'block' : 'none';\n",
              "\n",
              "        async function convertToInteractive(key) {\n",
              "          const element = document.querySelector('#df-5d162424-c960-40af-a6c8-59912d51a7ae');\n",
              "          const dataTable =\n",
              "            await google.colab.kernel.invokeFunction('convertToInteractive',\n",
              "                                                     [key], {});\n",
              "          if (!dataTable) return;\n",
              "\n",
              "          const docLinkHtml = 'Like what you see? Visit the ' +\n",
              "            '<a target=\"_blank\" href=https://colab.research.google.com/notebooks/data_table.ipynb>data table notebook</a>'\n",
              "            + ' to learn more about interactive tables.';\n",
              "          element.innerHTML = '';\n",
              "          dataTable['output_type'] = 'display_data';\n",
              "          await google.colab.output.renderOutput(dataTable, element);\n",
              "          const docLink = document.createElement('div');\n",
              "          docLink.innerHTML = docLinkHtml;\n",
              "          element.appendChild(docLink);\n",
              "        }\n",
              "      </script>\n",
              "    </div>\n",
              "  </div>\n",
              "  "
            ]
          },
          "metadata": {},
          "execution_count": 6
        }
      ],
      "source": [
        "#Set up data for [Nama, Tempat lahir, Tanggal lahir, Tanggal terakhir berbelanja, Rata-rata amount belanja per bulan (Rp), Total transaksi per bulan]\n",
        "dataframe = {\n",
        "    'Name' : ['Atikah', 'Firman', 'Rafi', 'Wahyu', 'Zahra'],\n",
        "    'Birthplace' : ['Padang', 'Malang', 'Jakarta', 'Jakarta', 'Singapura'],\n",
        "    'Birthdate' : ['05-07-1995', '14-09-1990', '22-12-1999', '07-08-1998', '09-01-1995'],\n",
        "    'Last Order' : ['05-07-2021', '14-09-2021', '22-12-2021', '07-08-2021', '09-01-2021'],\n",
        "    'Average Amount of Purchase per Month' : [80000, 1000000, 400000, 500000, 400000],\n",
        "    'Total Transaction per Month' : [1,2,7,5,8]\n",
        "}\n",
        "# Setup Pandas\n",
        "import pandas as pd\n",
        "\n",
        "#Setup dataframe\n",
        "df_main = pd.DataFrame(dataframe)\n",
        "\n",
        "#Setup Filter\n",
        "filter1 = df_main['Average Amount of Purchase per Month'] > 100000 # Average Amount of Purchase > 100000\n",
        "filter2 = df_main['Total Transaction per Month'] > 5 # Total Transaction per Month > 5\n",
        "loyalfilter = filter1 & filter2\n",
        "\n",
        "df_main[loyalfilter]"
      ]
    },
    {
      "cell_type": "markdown",
      "source": [
        "**Advanced (20 poin)**\n",
        "\n",
        "Pilih salah satu data yang ada di kaggle (sebisa mungkin yang berhubungan dengan bisnis). Kemudian analisa data tersebut dan upload pekerjaannya di github teman-teman.\n",
        "Expektasi output : link github\n"
      ],
      "metadata": {
        "id": "8-q7QcFQ26R1"
      }
    },
    {
      "cell_type": "code",
      "source": [
        ""
      ],
      "metadata": {
        "id": "NrJqRGkU2aGf"
      },
      "execution_count": null,
      "outputs": []
    }
  ]
}